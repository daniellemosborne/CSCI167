{
  "nbformat": 4,
  "nbformat_minor": 0,
  "metadata": {
    "colab": {
      "provenance": []
    },
    "kernelspec": {
      "name": "python3",
      "display_name": "Python 3"
    },
    "language_info": {
      "name": "python"
    }
  },
  "cells": [
    {
      "cell_type": "markdown",
      "metadata": {
        "id": "view-in-github"
      },
      "source": [
        "<a href=\"https://colab.research.google.com/github/udlbook/udlbook/blob/main/Notebooks/Chap10/10_5_Convolution_For_MNIST.ipynb\" target=\"_parent\"><img src=\"https://colab.research.google.com/assets/colab-badge.svg\" alt=\"Open In Colab\"/></a>"
      ]
    },
    {
      "cell_type": "markdown",
      "source": [
        "# **Notebook 10.5: Convolution for MNIST**\n",
        "\n",
        "This notebook builds a proper network for 2D convolution.  It works with the MNIST dataset (figure 15.15a), which was the original classic dataset for classifying images.  The network will take a 28x28 grayscale image and classify it into one of 10 classes representing a digit.\n",
        "\n",
        "The code is adapted from https://nextjournal.com/gkoehler/pytorch-mnist\n",
        "\n",
        "Work through the cells below, running each cell in turn. In various places you will see the words \"TO DO\". Follow the instructions at these places and make predictions about what is going to happen or write code to complete the functions.\n",
        "\n",
        "Contact me at udlbookmail@gmail.com if you find any mistakes or have any suggestions.\n"
      ],
      "metadata": {
        "id": "t9vk9Elugvmi"
      }
    },
    {
      "cell_type": "code",
      "source": [
        "import torch\n",
        "import torchvision\n",
        "import torch.nn as nn\n",
        "import torch.nn.functional as F\n",
        "import torch.optim as optim\n",
        "import matplotlib.pyplot as plt\n",
        "import random"
      ],
      "metadata": {
        "id": "YrXWAH7sUWvU"
      },
      "execution_count": 1,
      "outputs": []
    },
    {
      "cell_type": "code",
      "source": [
        "# Run this once to load the train and test data straight into a dataloader class\n",
        "# that will provide the batches\n",
        "\n",
        "# (It may complain that some files are missing because the files seem to have been\n",
        "# reorganized on the underlying website, but it still seems to work). If everything is working\n",
        "# properly, then the whole notebook should run to the end without further problems\n",
        "# even before you make changes.\n",
        "batch_size_train = 64\n",
        "batch_size_test = 1000\n",
        "\n",
        "# TODO Change this directory to point towards an existing directory\n",
        "myDir = '/files/'\n",
        "\n",
        "train_loader = torch.utils.data.DataLoader(\n",
        "  torchvision.datasets.MNIST(myDir, train=True, download=True,\n",
        "                             transform=torchvision.transforms.Compose([\n",
        "                               torchvision.transforms.ToTensor(),\n",
        "                               torchvision.transforms.Normalize(\n",
        "                                 (0.1307,), (0.3081,))\n",
        "                             ])),\n",
        "  batch_size=batch_size_train, shuffle=True)\n",
        "\n",
        "test_loader = torch.utils.data.DataLoader(\n",
        "  torchvision.datasets.MNIST(myDir, train=False, download=True,\n",
        "                             transform=torchvision.transforms.Compose([\n",
        "                               torchvision.transforms.ToTensor(),\n",
        "                               torchvision.transforms.Normalize(\n",
        "                                 (0.1307,), (0.3081,))\n",
        "                             ])),\n",
        "  batch_size=batch_size_test, shuffle=True)"
      ],
      "metadata": {
        "id": "wScBGXXFVadm",
        "colab": {
          "base_uri": "https://localhost:8080/"
        },
        "outputId": "a32ee8da-d67d-4434-c405-a95d0b561517"
      },
      "execution_count": 2,
      "outputs": [
        {
          "output_type": "stream",
          "name": "stdout",
          "text": [
            "Downloading http://yann.lecun.com/exdb/mnist/train-images-idx3-ubyte.gz\n",
            "Failed to download (trying next):\n",
            "<urlopen error [SSL: CERTIFICATE_VERIFY_FAILED] certificate verify failed: certificate has expired (_ssl.c:1007)>\n",
            "\n",
            "Downloading https://ossci-datasets.s3.amazonaws.com/mnist/train-images-idx3-ubyte.gz\n",
            "Downloading https://ossci-datasets.s3.amazonaws.com/mnist/train-images-idx3-ubyte.gz to /files/MNIST/raw/train-images-idx3-ubyte.gz\n"
          ]
        },
        {
          "output_type": "stream",
          "name": "stderr",
          "text": [
            "100%|██████████| 9.91M/9.91M [00:01<00:00, 5.24MB/s]\n"
          ]
        },
        {
          "output_type": "stream",
          "name": "stdout",
          "text": [
            "Extracting /files/MNIST/raw/train-images-idx3-ubyte.gz to /files/MNIST/raw\n",
            "\n",
            "Downloading http://yann.lecun.com/exdb/mnist/train-labels-idx1-ubyte.gz\n",
            "Failed to download (trying next):\n",
            "<urlopen error [SSL: CERTIFICATE_VERIFY_FAILED] certificate verify failed: certificate has expired (_ssl.c:1007)>\n",
            "\n",
            "Downloading https://ossci-datasets.s3.amazonaws.com/mnist/train-labels-idx1-ubyte.gz\n",
            "Downloading https://ossci-datasets.s3.amazonaws.com/mnist/train-labels-idx1-ubyte.gz to /files/MNIST/raw/train-labels-idx1-ubyte.gz\n"
          ]
        },
        {
          "output_type": "stream",
          "name": "stderr",
          "text": [
            "100%|██████████| 28.9k/28.9k [00:00<00:00, 153kB/s]\n"
          ]
        },
        {
          "output_type": "stream",
          "name": "stdout",
          "text": [
            "Extracting /files/MNIST/raw/train-labels-idx1-ubyte.gz to /files/MNIST/raw\n",
            "\n",
            "Downloading http://yann.lecun.com/exdb/mnist/t10k-images-idx3-ubyte.gz\n",
            "Failed to download (trying next):\n",
            "<urlopen error [SSL: CERTIFICATE_VERIFY_FAILED] certificate verify failed: certificate has expired (_ssl.c:1007)>\n",
            "\n",
            "Downloading https://ossci-datasets.s3.amazonaws.com/mnist/t10k-images-idx3-ubyte.gz\n",
            "Downloading https://ossci-datasets.s3.amazonaws.com/mnist/t10k-images-idx3-ubyte.gz to /files/MNIST/raw/t10k-images-idx3-ubyte.gz\n"
          ]
        },
        {
          "output_type": "stream",
          "name": "stderr",
          "text": [
            "100%|██████████| 1.65M/1.65M [00:01<00:00, 1.46MB/s]\n"
          ]
        },
        {
          "output_type": "stream",
          "name": "stdout",
          "text": [
            "Extracting /files/MNIST/raw/t10k-images-idx3-ubyte.gz to /files/MNIST/raw\n",
            "\n",
            "Downloading http://yann.lecun.com/exdb/mnist/t10k-labels-idx1-ubyte.gz\n",
            "Failed to download (trying next):\n",
            "<urlopen error [SSL: CERTIFICATE_VERIFY_FAILED] certificate verify failed: certificate has expired (_ssl.c:1007)>\n",
            "\n",
            "Downloading https://ossci-datasets.s3.amazonaws.com/mnist/t10k-labels-idx1-ubyte.gz\n",
            "Downloading https://ossci-datasets.s3.amazonaws.com/mnist/t10k-labels-idx1-ubyte.gz to /files/MNIST/raw/t10k-labels-idx1-ubyte.gz\n"
          ]
        },
        {
          "output_type": "stream",
          "name": "stderr",
          "text": [
            "100%|██████████| 4.54k/4.54k [00:00<00:00, 3.39MB/s]"
          ]
        },
        {
          "output_type": "stream",
          "name": "stdout",
          "text": [
            "Extracting /files/MNIST/raw/t10k-labels-idx1-ubyte.gz to /files/MNIST/raw\n",
            "\n"
          ]
        },
        {
          "output_type": "stream",
          "name": "stderr",
          "text": [
            "\n"
          ]
        }
      ]
    },
    {
      "cell_type": "code",
      "source": [
        "# Let's draw some of the training data\n",
        "examples = enumerate(test_loader)\n",
        "batch_idx, (example_data, example_targets) = next(examples)\n",
        "\n",
        "fig = plt.figure()\n",
        "for i in range(6):\n",
        "  plt.subplot(2,3,i+1)\n",
        "  plt.tight_layout()\n",
        "  plt.imshow(example_data[i][0], cmap='gray', interpolation='none')\n",
        "  plt.title(\"Ground Truth: {}\".format(example_targets[i]))\n",
        "  plt.xticks([])\n",
        "  plt.yticks([])\n",
        "plt.show()"
      ],
      "metadata": {
        "id": "8bKADvLHbiV5",
        "colab": {
          "base_uri": "https://localhost:8080/",
          "height": 438
        },
        "outputId": "a4e75852-d38b-41eb-a5ef-ea2448b4742a"
      },
      "execution_count": 3,
      "outputs": [
        {
          "output_type": "display_data",
          "data": {
            "text/plain": [
              "<Figure size 640x480 with 6 Axes>"
            ],
            "image/png": "[encoded data removed]"
          },
          "metadata": {}
        }
      ]
    },
    {
      "cell_type": "markdown",
      "source": [
        "Define the network.  This is a more typical way to define a network than the sequential structure.  We define a class for the network, and define the parameters in the constructor.  Then we use a function called forward to actually run the network.  It's easy to see how you might use residual connections in this format."
      ],
      "metadata": {
        "id": "_sFvRDGrl4qe"
      }
    },
    {
      "cell_type": "code",
      "source": [
        "from os import X_OK\n",
        "# TODO Change this class to implement\n",
        "# 1. A valid convolution with kernel size 5, 1 input channel and 10 output channels\n",
        "# 2. A max pooling operation over a 2x2 area\n",
        "# 3. A Relu\n",
        "# 4. A valid convolution with kernel size 5, 10 input channels and 20 output channels\n",
        "# 5. A 2D Dropout layer\n",
        "# 6. A max pooling operation over a 2x2 area\n",
        "# 7. A relu\n",
        "# 8. A flattening operation\n",
        "# 9. A fully connected layer mapping from (whatever dimensions we are at-- find out using .shape) to 50\n",
        "# 10. A ReLU\n",
        "# 11. A fully connected layer mapping from 50 to 10 dimensions\n",
        "# 12. A softmax function.\n",
        "\n",
        "# Replace this class which implements a minimal network (which still does okay)\n",
        "class Net(nn.Module):\n",
        "\n",
        "  def __init__(self):\n",
        "    super(Net, self).__init__()\n",
        "    self.conv1 = nn.Conv2d(1, 10, kernel_size=5)\n",
        "    self.pool1 = nn.MaxPool2d(2, 2)\n",
        "    self.conv2 = nn.Conv2d(10, 20, kernel_size=5)\n",
        "    self.drop = nn.Dropout2d()\n",
        "    self.pool2 = nn.MaxPool2d(2, 2)\n",
        "    self.fc1 = nn.Linear(320, 50)\n",
        "    self.fc2 = nn.Linear(50, 10)\n",
        "\n",
        "  def forward(self, x):\n",
        "    x = self.pool1(F.relu(self.conv1(x)))\n",
        "    x = self.pool2(F.relu(self.drop(self.conv2(x))))\n",
        "    x = x.view(-1, 320)\n",
        "    x = F.relu(self.fc1(x))\n",
        "    x = F.log_softmax(self.fc2(x))\n",
        "    return x\n",
        "\n"
      ],
      "metadata": {
        "id": "EQkvw2KOPVl7"
      },
      "execution_count": 7,
      "outputs": []
    },
    {
      "cell_type": "code",
      "source": [
        "# He initialization of weights\n",
        "def weights_init(layer_in):\n",
        "  if isinstance(layer_in, nn.Linear):\n",
        "    nn.init.kaiming_uniform_(layer_in.weight)\n",
        "    layer_in.bias.data.fill_(0.0)"
      ],
      "metadata": {
        "id": "qWZtkCZcU_dg"
      },
      "execution_count": 5,
      "outputs": []
    },
    {
      "cell_type": "code",
      "source": [
        "# Create network\n",
        "model = Net()\n",
        "# Initialize model weights\n",
        "model.apply(weights_init)\n",
        "# Define optimizer\n",
        "optimizer = optim.SGD(model.parameters(), lr=0.01, momentum=0.5)"
      ],
      "metadata": {
        "id": "FslroPJJffrh"
      },
      "execution_count": 8,
      "outputs": []
    },
    {
      "cell_type": "code",
      "source": [
        "# Main training routine\n",
        "def train(epoch):\n",
        "  model.train()\n",
        "  # Get each\n",
        "  for batch_idx, (data, target) in enumerate(train_loader):\n",
        "    optimizer.zero_grad()\n",
        "    output = model(data)\n",
        "    loss = F.nll_loss(output, target)\n",
        "    loss.backward()\n",
        "    optimizer.step()\n",
        "    # Store results\n",
        "    if batch_idx % 10 == 0:\n",
        "      print('Train Epoch: {} [{}/{}]\\tLoss: {:.6f}'.format(\n",
        "        epoch, batch_idx * len(data), len(train_loader.dataset), loss.item()))"
      ],
      "metadata": {
        "id": "xKQd9PzkQ766"
      },
      "execution_count": 9,
      "outputs": []
    },
    {
      "cell_type": "code",
      "source": [
        "# Run on test data\n",
        "def test():\n",
        "  model.eval()\n",
        "  test_loss = 0\n",
        "  correct = 0\n",
        "  with torch.no_grad():\n",
        "    for data, target in test_loader:\n",
        "      output = model(data)\n",
        "      test_loss += F.nll_loss(output, target, size_average=False).item()\n",
        "      pred = output.data.max(1, keepdim=True)[1]\n",
        "      correct += pred.eq(target.data.view_as(pred)).sum()\n",
        "  test_loss /= len(test_loader.dataset)\n",
        "  print('\\nTest set: Avg. loss: {:.4f}, Accuracy: {}/{} ({:.0f}%)\\n'.format(\n",
        "    test_loss, correct, len(test_loader.dataset),\n",
        "    100. * correct / len(test_loader.dataset)))"
      ],
      "metadata": {
        "id": "Byn-f7qWRLxX"
      },
      "execution_count": 10,
      "outputs": []
    },
    {
      "cell_type": "code",
      "source": [
        "# Get initial performance\n",
        "test()\n",
        "# Train for three epochs\n",
        "n_epochs = 3\n",
        "for epoch in range(1, n_epochs + 1):\n",
        "  train(epoch)\n",
        "  test()"
      ],
      "metadata": {
        "id": "YgLaex1pfhqz",
        "colab": {
          "base_uri": "https://localhost:8080/"
        },
        "outputId": "e153b20c-95ab-49d6-9ffa-8d012cc95443"
      },
      "execution_count": 11,
      "outputs": [
        {
          "output_type": "stream",
          "name": "stderr",
          "text": [
            "<ipython-input-7-e5419a8d95da>:34: UserWarning: Implicit dimension choice for log_softmax has been deprecated. Change the call to include dim=X as an argument.\n",
            "  x = F.log_softmax(self.fc2(x))                 # 11, 12\n",
            "/usr/local/lib/python3.10/dist-packages/torch/nn/_reduction.py:51: UserWarning: size_average and reduce args will be deprecated, please use reduction='sum' instead.\n",
            "  warnings.warn(warning.format(ret))\n"
          ]
        },
        {
          "output_type": "stream",
          "name": "stdout",
          "text": [
            "\n",
            "Test set: Avg. loss: 2.5140, Accuracy: 614/10000 (6%)\n",
            "\n",
            "Train Epoch: 1 [0/60000]\tLoss: 2.741725\n",
            "Train Epoch: 1 [640/60000]\tLoss: 2.293369\n",
            "Train Epoch: 1 [1280/60000]\tLoss: 2.265380\n",
            "Train Epoch: 1 [1920/60000]\tLoss: 2.037609\n",
            "Train Epoch: 1 [2560/60000]\tLoss: 2.041261\n",
            "Train Epoch: 1 [3200/60000]\tLoss: 1.926732\n",
            "Train Epoch: 1 [3840/60000]\tLoss: 1.598260\n",
            "Train Epoch: 1 [4480/60000]\tLoss: 1.749718\n",
            "Train Epoch: 1 [5120/60000]\tLoss: 1.448094\n",
            "Train Epoch: 1 [5760/60000]\tLoss: 1.299579\n",
            "Train Epoch: 1 [6400/60000]\tLoss: 1.232881\n",
            "Train Epoch: 1 [7040/60000]\tLoss: 0.894594\n",
            "Train Epoch: 1 [7680/60000]\tLoss: 1.131838\n",
            "Train Epoch: 1 [8320/60000]\tLoss: 0.866596\n",
            "Train Epoch: 1 [8960/60000]\tLoss: 0.947231\n",
            "Train Epoch: 1 [9600/60000]\tLoss: 0.890501\n",
            "Train Epoch: 1 [10240/60000]\tLoss: 0.873280\n",
            "Train Epoch: 1 [10880/60000]\tLoss: 0.700277\n",
            "Train Epoch: 1 [11520/60000]\tLoss: 0.757946\n",
            "Train Epoch: 1 [12160/60000]\tLoss: 0.870951\n",
            "Train Epoch: 1 [12800/60000]\tLoss: 0.743703\n",
            "Train Epoch: 1 [13440/60000]\tLoss: 0.962757\n",
            "Train Epoch: 1 [14080/60000]\tLoss: 0.775212\n",
            "Train Epoch: 1 [14720/60000]\tLoss: 0.706094\n",
            "Train Epoch: 1 [15360/60000]\tLoss: 0.425490\n",
            "Train Epoch: 1 [16000/60000]\tLoss: 0.623013\n",
            "Train Epoch: 1 [16640/60000]\tLoss: 0.823801\n",
            "Train Epoch: 1 [17280/60000]\tLoss: 0.607851\n",
            "Train Epoch: 1 [17920/60000]\tLoss: 0.448678\n",
            "Train Epoch: 1 [18560/60000]\tLoss: 0.662679\n",
            "Train Epoch: 1 [19200/60000]\tLoss: 0.483762\n",
            "Train Epoch: 1 [19840/60000]\tLoss: 0.517960\n",
            "Train Epoch: 1 [20480/60000]\tLoss: 0.409971\n",
            "Train Epoch: 1 [21120/60000]\tLoss: 0.511561\n",
            "Train Epoch: 1 [21760/60000]\tLoss: 0.621358\n",
            "Train Epoch: 1 [22400/60000]\tLoss: 0.304910\n",
            "Train Epoch: 1 [23040/60000]\tLoss: 0.380442\n",
            "Train Epoch: 1 [23680/60000]\tLoss: 0.456077\n",
            "Train Epoch: 1 [24320/60000]\tLoss: 0.337115\n",
            "Train Epoch: 1 [24960/60000]\tLoss: 0.610567\n",
            "Train Epoch: 1 [25600/60000]\tLoss: 0.268479\n",
            "Train Epoch: 1 [26240/60000]\tLoss: 0.469706\n",
            "Train Epoch: 1 [26880/60000]\tLoss: 0.369677\n",
            "Train Epoch: 1 [27520/60000]\tLoss: 0.409883\n",
            "Train Epoch: 1 [28160/60000]\tLoss: 0.481381\n",
            "Train Epoch: 1 [28800/60000]\tLoss: 0.472336\n",
            "Train Epoch: 1 [29440/60000]\tLoss: 0.387746\n",
            "Train Epoch: 1 [30080/60000]\tLoss: 0.327832\n",
            "Train Epoch: 1 [30720/60000]\tLoss: 0.483785\n",
            "Train Epoch: 1 [31360/60000]\tLoss: 0.487179\n",
            "Train Epoch: 1 [32000/60000]\tLoss: 0.327130\n",
            "Train Epoch: 1 [32640/60000]\tLoss: 0.513973\n",
            "Train Epoch: 1 [33280/60000]\tLoss: 0.401519\n",
            "Train Epoch: 1 [33920/60000]\tLoss: 0.359272\n",
            "Train Epoch: 1 [34560/60000]\tLoss: 0.339868\n",
            "Train Epoch: 1 [35200/60000]\tLoss: 0.265043\n",
            "Train Epoch: 1 [35840/60000]\tLoss: 0.297335\n",
            "Train Epoch: 1 [36480/60000]\tLoss: 0.404811\n",
            "Train Epoch: 1 [37120/60000]\tLoss: 0.528599\n",
            "Train Epoch: 1 [37760/60000]\tLoss: 0.238609\n",
            "Train Epoch: 1 [38400/60000]\tLoss: 0.381247\n",
            "Train Epoch: 1 [39040/60000]\tLoss: 0.270366\n",
            "Train Epoch: 1 [39680/60000]\tLoss: 0.424904\n",
            "Train Epoch: 1 [40320/60000]\tLoss: 0.220880\n",
            "Train Epoch: 1 [40960/60000]\tLoss: 0.506307\n",
            "Train Epoch: 1 [41600/60000]\tLoss: 0.377190\n",
            "Train Epoch: 1 [42240/60000]\tLoss: 0.218656\n",
            "Train Epoch: 1 [42880/60000]\tLoss: 0.189278\n",
            "Train Epoch: 1 [43520/60000]\tLoss: 0.522287\n",
            "Train Epoch: 1 [44160/60000]\tLoss: 0.258238\n",
            "Train Epoch: 1 [44800/60000]\tLoss: 0.296278\n",
            "Train Epoch: 1 [45440/60000]\tLoss: 0.239468\n",
            "Train Epoch: 1 [46080/60000]\tLoss: 0.326857\n",
            "Train Epoch: 1 [46720/60000]\tLoss: 0.176455\n",
            "Train Epoch: 1 [47360/60000]\tLoss: 0.369510\n",
            "Train Epoch: 1 [48000/60000]\tLoss: 0.307831\n",
            "Train Epoch: 1 [48640/60000]\tLoss: 0.301551\n",
            "Train Epoch: 1 [49280/60000]\tLoss: 0.196182\n",
            "Train Epoch: 1 [49920/60000]\tLoss: 0.187267\n",
            "Train Epoch: 1 [50560/60000]\tLoss: 0.260417\n",
            "Train Epoch: 1 [51200/60000]\tLoss: 0.360756\n",
            "Train Epoch: 1 [51840/60000]\tLoss: 0.087003\n",
            "Train Epoch: 1 [52480/60000]\tLoss: 0.303362\n",
            "Train Epoch: 1 [53120/60000]\tLoss: 0.201058\n",
            "Train Epoch: 1 [53760/60000]\tLoss: 0.214030\n",
            "Train Epoch: 1 [54400/60000]\tLoss: 0.372398\n",
            "Train Epoch: 1 [55040/60000]\tLoss: 0.433222\n",
            "Train Epoch: 1 [55680/60000]\tLoss: 0.297258\n",
            "Train Epoch: 1 [56320/60000]\tLoss: 0.220547\n",
            "Train Epoch: 1 [56960/60000]\tLoss: 0.165025\n",
            "Train Epoch: 1 [57600/60000]\tLoss: 0.173326\n",
            "Train Epoch: 1 [58240/60000]\tLoss: 0.063644\n",
            "Train Epoch: 1 [58880/60000]\tLoss: 0.337366\n",
            "Train Epoch: 1 [59520/60000]\tLoss: 0.380087\n",
            "\n",
            "Test set: Avg. loss: 0.1276, Accuracy: 9605/10000 (96%)\n",
            "\n",
            "Train Epoch: 2 [0/60000]\tLoss: 0.171345\n",
            "Train Epoch: 2 [640/60000]\tLoss: 0.190556\n",
            "Train Epoch: 2 [1280/60000]\tLoss: 0.138768\n",
            "Train Epoch: 2 [1920/60000]\tLoss: 0.244383\n",
            "Train Epoch: 2 [2560/60000]\tLoss: 0.248626\n",
            "Train Epoch: 2 [3200/60000]\tLoss: 0.190479\n",
            "Train Epoch: 2 [3840/60000]\tLoss: 0.252187\n",
            "Train Epoch: 2 [4480/60000]\tLoss: 0.209716\n",
            "Train Epoch: 2 [5120/60000]\tLoss: 0.345166\n",
            "Train Epoch: 2 [5760/60000]\tLoss: 0.291936\n",
            "Train Epoch: 2 [6400/60000]\tLoss: 0.200074\n",
            "Train Epoch: 2 [7040/60000]\tLoss: 0.332706\n",
            "Train Epoch: 2 [7680/60000]\tLoss: 0.107617\n",
            "Train Epoch: 2 [8320/60000]\tLoss: 0.250208\n",
            "Train Epoch: 2 [8960/60000]\tLoss: 0.181298\n",
            "Train Epoch: 2 [9600/60000]\tLoss: 0.211964\n",
            "Train Epoch: 2 [10240/60000]\tLoss: 0.193510\n",
            "Train Epoch: 2 [10880/60000]\tLoss: 0.374811\n",
            "Train Epoch: 2 [11520/60000]\tLoss: 0.271462\n",
            "Train Epoch: 2 [12160/60000]\tLoss: 0.215934\n",
            "Train Epoch: 2 [12800/60000]\tLoss: 0.349486\n",
            "Train Epoch: 2 [13440/60000]\tLoss: 0.189494\n",
            "Train Epoch: 2 [14080/60000]\tLoss: 0.447475\n",
            "Train Epoch: 2 [14720/60000]\tLoss: 0.119015\n",
            "Train Epoch: 2 [15360/60000]\tLoss: 0.151317\n",
            "Train Epoch: 2 [16000/60000]\tLoss: 0.280978\n",
            "Train Epoch: 2 [16640/60000]\tLoss: 0.186711\n",
            "Train Epoch: 2 [17280/60000]\tLoss: 0.089906\n",
            "Train Epoch: 2 [17920/60000]\tLoss: 0.221332\n",
            "Train Epoch: 2 [18560/60000]\tLoss: 0.163204\n",
            "Train Epoch: 2 [19200/60000]\tLoss: 0.173550\n",
            "Train Epoch: 2 [19840/60000]\tLoss: 0.180250\n",
            "Train Epoch: 2 [20480/60000]\tLoss: 0.247574\n",
            "Train Epoch: 2 [21120/60000]\tLoss: 0.201501\n",
            "Train Epoch: 2 [21760/60000]\tLoss: 0.130889\n",
            "Train Epoch: 2 [22400/60000]\tLoss: 0.155290\n",
            "Train Epoch: 2 [23040/60000]\tLoss: 0.303250\n",
            "Train Epoch: 2 [23680/60000]\tLoss: 0.045806\n",
            "Train Epoch: 2 [24320/60000]\tLoss: 0.124672\n",
            "Train Epoch: 2 [24960/60000]\tLoss: 0.214913\n",
            "Train Epoch: 2 [25600/60000]\tLoss: 0.241338\n",
            "Train Epoch: 2 [26240/60000]\tLoss: 0.313728\n",
            "Train Epoch: 2 [26880/60000]\tLoss: 0.149987\n",
            "Train Epoch: 2 [27520/60000]\tLoss: 0.129884\n",
            "Train Epoch: 2 [28160/60000]\tLoss: 0.080222\n",
            "Train Epoch: 2 [28800/60000]\tLoss: 0.163622\n",
            "Train Epoch: 2 [29440/60000]\tLoss: 0.154950\n",
            "Train Epoch: 2 [30080/60000]\tLoss: 0.225261\n",
            "Train Epoch: 2 [30720/60000]\tLoss: 0.363812\n",
            "Train Epoch: 2 [31360/60000]\tLoss: 0.076027\n",
            "Train Epoch: 2 [32000/60000]\tLoss: 0.322130\n",
            "Train Epoch: 2 [32640/60000]\tLoss: 0.106437\n",
            "Train Epoch: 2 [33280/60000]\tLoss: 0.261317\n",
            "Train Epoch: 2 [33920/60000]\tLoss: 0.147868\n",
            "Train Epoch: 2 [34560/60000]\tLoss: 0.213590\n",
            "Train Epoch: 2 [35200/60000]\tLoss: 0.171162\n",
            "Train Epoch: 2 [35840/60000]\tLoss: 0.251550\n",
            "Train Epoch: 2 [36480/60000]\tLoss: 0.106671\n",
            "Train Epoch: 2 [37120/60000]\tLoss: 0.166935\n",
            "Train Epoch: 2 [37760/60000]\tLoss: 0.254728\n",
            "Train Epoch: 2 [38400/60000]\tLoss: 0.330666\n",
            "Train Epoch: 2 [39040/60000]\tLoss: 0.135569\n",
            "Train Epoch: 2 [39680/60000]\tLoss: 0.060926\n",
            "Train Epoch: 2 [40320/60000]\tLoss: 0.189442\n",
            "Train Epoch: 2 [40960/60000]\tLoss: 0.232966\n",
            "Train Epoch: 2 [41600/60000]\tLoss: 0.184000\n",
            "Train Epoch: 2 [42240/60000]\tLoss: 0.335546\n",
            "Train Epoch: 2 [42880/60000]\tLoss: 0.134713\n",
            "Train Epoch: 2 [43520/60000]\tLoss: 0.071762\n",
            "Train Epoch: 2 [44160/60000]\tLoss: 0.062379\n",
            "Train Epoch: 2 [44800/60000]\tLoss: 0.237734\n",
            "Train Epoch: 2 [45440/60000]\tLoss: 0.160668\n",
            "Train Epoch: 2 [46080/60000]\tLoss: 0.093684\n",
            "Train Epoch: 2 [46720/60000]\tLoss: 0.100062\n",
            "Train Epoch: 2 [47360/60000]\tLoss: 0.128610\n",
            "Train Epoch: 2 [48000/60000]\tLoss: 0.064706\n",
            "Train Epoch: 2 [48640/60000]\tLoss: 0.103931\n",
            "Train Epoch: 2 [49280/60000]\tLoss: 0.141824\n",
            "Train Epoch: 2 [49920/60000]\tLoss: 0.237265\n",
            "Train Epoch: 2 [50560/60000]\tLoss: 0.137657\n",
            "Train Epoch: 2 [51200/60000]\tLoss: 0.172785\n",
            "Train Epoch: 2 [51840/60000]\tLoss: 0.119824\n",
            "Train Epoch: 2 [52480/60000]\tLoss: 0.231709\n",
            "Train Epoch: 2 [53120/60000]\tLoss: 0.195558\n",
            "Train Epoch: 2 [53760/60000]\tLoss: 0.077629\n",
            "Train Epoch: 2 [54400/60000]\tLoss: 0.127541\n",
            "Train Epoch: 2 [55040/60000]\tLoss: 0.096628\n",
            "Train Epoch: 2 [55680/60000]\tLoss: 0.172834\n",
            "Train Epoch: 2 [56320/60000]\tLoss: 0.136641\n",
            "Train Epoch: 2 [56960/60000]\tLoss: 0.238619\n",
            "Train Epoch: 2 [57600/60000]\tLoss: 0.265920\n",
            "Train Epoch: 2 [58240/60000]\tLoss: 0.137505\n",
            "Train Epoch: 2 [58880/60000]\tLoss: 0.153134\n",
            "Train Epoch: 2 [59520/60000]\tLoss: 0.295028\n",
            "\n",
            "Test set: Avg. loss: 0.0853, Accuracy: 9734/10000 (97%)\n",
            "\n",
            "Train Epoch: 3 [0/60000]\tLoss: 0.205154\n",
            "Train Epoch: 3 [640/60000]\tLoss: 0.181568\n",
            "Train Epoch: 3 [1280/60000]\tLoss: 0.164973\n",
            "Train Epoch: 3 [1920/60000]\tLoss: 0.074456\n",
            "Train Epoch: 3 [2560/60000]\tLoss: 0.115168\n",
            "Train Epoch: 3 [3200/60000]\tLoss: 0.331444\n",
            "Train Epoch: 3 [3840/60000]\tLoss: 0.149444\n",
            "Train Epoch: 3 [4480/60000]\tLoss: 0.276264\n",
            "Train Epoch: 3 [5120/60000]\tLoss: 0.115750\n",
            "Train Epoch: 3 [5760/60000]\tLoss: 0.093677\n",
            "Train Epoch: 3 [6400/60000]\tLoss: 0.260217\n",
            "Train Epoch: 3 [7040/60000]\tLoss: 0.224653\n",
            "Train Epoch: 3 [7680/60000]\tLoss: 0.090611\n",
            "Train Epoch: 3 [8320/60000]\tLoss: 0.258870\n",
            "Train Epoch: 3 [8960/60000]\tLoss: 0.122406\n",
            "Train Epoch: 3 [9600/60000]\tLoss: 0.066019\n",
            "Train Epoch: 3 [10240/60000]\tLoss: 0.089063\n",
            "Train Epoch: 3 [10880/60000]\tLoss: 0.084406\n",
            "Train Epoch: 3 [11520/60000]\tLoss: 0.144087\n",
            "Train Epoch: 3 [12160/60000]\tLoss: 0.132814\n",
            "Train Epoch: 3 [12800/60000]\tLoss: 0.178803\n",
            "Train Epoch: 3 [13440/60000]\tLoss: 0.164439\n",
            "Train Epoch: 3 [14080/60000]\tLoss: 0.190389\n",
            "Train Epoch: 3 [14720/60000]\tLoss: 0.565413\n",
            "Train Epoch: 3 [15360/60000]\tLoss: 0.284092\n",
            "Train Epoch: 3 [16000/60000]\tLoss: 0.213146\n",
            "Train Epoch: 3 [16640/60000]\tLoss: 0.133585\n",
            "Train Epoch: 3 [17280/60000]\tLoss: 0.299389\n",
            "Train Epoch: 3 [17920/60000]\tLoss: 0.131118\n",
            "Train Epoch: 3 [18560/60000]\tLoss: 0.101282\n",
            "Train Epoch: 3 [19200/60000]\tLoss: 0.158463\n",
            "Train Epoch: 3 [19840/60000]\tLoss: 0.116225\n",
            "Train Epoch: 3 [20480/60000]\tLoss: 0.051035\n",
            "Train Epoch: 3 [21120/60000]\tLoss: 0.325895\n",
            "Train Epoch: 3 [21760/60000]\tLoss: 0.166451\n",
            "Train Epoch: 3 [22400/60000]\tLoss: 0.088510\n",
            "Train Epoch: 3 [23040/60000]\tLoss: 0.102711\n",
            "Train Epoch: 3 [23680/60000]\tLoss: 0.249798\n",
            "Train Epoch: 3 [24320/60000]\tLoss: 0.281071\n",
            "Train Epoch: 3 [24960/60000]\tLoss: 0.178382\n",
            "Train Epoch: 3 [25600/60000]\tLoss: 0.059728\n",
            "Train Epoch: 3 [26240/60000]\tLoss: 0.178095\n",
            "Train Epoch: 3 [26880/60000]\tLoss: 0.101417\n",
            "Train Epoch: 3 [27520/60000]\tLoss: 0.096226\n",
            "Train Epoch: 3 [28160/60000]\tLoss: 0.326033\n",
            "Train Epoch: 3 [28800/60000]\tLoss: 0.253592\n",
            "Train Epoch: 3 [29440/60000]\tLoss: 0.055396\n",
            "Train Epoch: 3 [30080/60000]\tLoss: 0.056990\n",
            "Train Epoch: 3 [30720/60000]\tLoss: 0.163169\n",
            "Train Epoch: 3 [31360/60000]\tLoss: 0.094132\n",
            "Train Epoch: 3 [32000/60000]\tLoss: 0.244996\n",
            "Train Epoch: 3 [32640/60000]\tLoss: 0.172435\n",
            "Train Epoch: 3 [33280/60000]\tLoss: 0.166205\n",
            "Train Epoch: 3 [33920/60000]\tLoss: 0.168420\n",
            "Train Epoch: 3 [34560/60000]\tLoss: 0.208305\n",
            "Train Epoch: 3 [35200/60000]\tLoss: 0.093423\n",
            "Train Epoch: 3 [35840/60000]\tLoss: 0.214734\n",
            "Train Epoch: 3 [36480/60000]\tLoss: 0.202178\n",
            "Train Epoch: 3 [37120/60000]\tLoss: 0.069478\n",
            "Train Epoch: 3 [37760/60000]\tLoss: 0.236528\n",
            "Train Epoch: 3 [38400/60000]\tLoss: 0.374199\n",
            "Train Epoch: 3 [39040/60000]\tLoss: 0.104425\n",
            "Train Epoch: 3 [39680/60000]\tLoss: 0.112836\n",
            "Train Epoch: 3 [40320/60000]\tLoss: 0.292381\n",
            "Train Epoch: 3 [40960/60000]\tLoss: 0.162811\n",
            "Train Epoch: 3 [41600/60000]\tLoss: 0.166369\n",
            "Train Epoch: 3 [42240/60000]\tLoss: 0.104134\n",
            "Train Epoch: 3 [42880/60000]\tLoss: 0.192737\n",
            "Train Epoch: 3 [43520/60000]\tLoss: 0.098402\n",
            "Train Epoch: 3 [44160/60000]\tLoss: 0.107750\n",
            "Train Epoch: 3 [44800/60000]\tLoss: 0.212123\n",
            "Train Epoch: 3 [45440/60000]\tLoss: 0.161690\n",
            "Train Epoch: 3 [46080/60000]\tLoss: 0.111946\n",
            "Train Epoch: 3 [46720/60000]\tLoss: 0.101199\n",
            "Train Epoch: 3 [47360/60000]\tLoss: 0.062511\n",
            "Train Epoch: 3 [48000/60000]\tLoss: 0.059498\n",
            "Train Epoch: 3 [48640/60000]\tLoss: 0.113482\n",
            "Train Epoch: 3 [49280/60000]\tLoss: 0.192452\n",
            "Train Epoch: 3 [49920/60000]\tLoss: 0.270821\n",
            "Train Epoch: 3 [50560/60000]\tLoss: 0.197281\n",
            "Train Epoch: 3 [51200/60000]\tLoss: 0.169524\n",
            "Train Epoch: 3 [51840/60000]\tLoss: 0.097183\n",
            "Train Epoch: 3 [52480/60000]\tLoss: 0.161554\n",
            "Train Epoch: 3 [53120/60000]\tLoss: 0.112966\n",
            "Train Epoch: 3 [53760/60000]\tLoss: 0.117073\n",
            "Train Epoch: 3 [54400/60000]\tLoss: 0.153284\n",
            "Train Epoch: 3 [55040/60000]\tLoss: 0.132835\n",
            "Train Epoch: 3 [55680/60000]\tLoss: 0.082747\n",
            "Train Epoch: 3 [56320/60000]\tLoss: 0.091052\n",
            "Train Epoch: 3 [56960/60000]\tLoss: 0.053329\n",
            "Train Epoch: 3 [57600/60000]\tLoss: 0.142980\n",
            "Train Epoch: 3 [58240/60000]\tLoss: 0.085067\n",
            "Train Epoch: 3 [58880/60000]\tLoss: 0.044946\n",
            "Train Epoch: 3 [59520/60000]\tLoss: 0.125506\n",
            "\n",
            "Test set: Avg. loss: 0.0642, Accuracy: 9805/10000 (98%)\n",
            "\n"
          ]
        }
      ]
    },
    {
      "cell_type": "code",
      "source": [
        "# Run network on data we got before and show predictions\n",
        "output = model(example_data)\n",
        "\n",
        "fig = plt.figure()\n",
        "for i in range(10):\n",
        "  plt.subplot(5,5,i+1)\n",
        "  plt.tight_layout()\n",
        "  plt.imshow(example_data[i][0], cmap='gray', interpolation='none')\n",
        "  plt.title(\"Prediction: {}\".format(\n",
        "    output.data.max(1, keepdim=True)[1][i].item()))\n",
        "  plt.xticks([])\n",
        "  plt.yticks([])\n",
        "plt.show()"
      ],
      "metadata": {
        "id": "o7fRUAy9Se1B",
        "colab": {
          "base_uri": "https://localhost:8080/",
          "height": 263
        },
        "outputId": "45519922-cfc7-416c-ea31-cf38d3bb49d0"
      },
      "execution_count": 12,
      "outputs": [
        {
          "output_type": "stream",
          "name": "stderr",
          "text": [
            "<ipython-input-7-e5419a8d95da>:34: UserWarning: Implicit dimension choice for log_softmax has been deprecated. Change the call to include dim=X as an argument.\n",
            "  x = F.log_softmax(self.fc2(x))                 # 11, 12\n"
          ]
        },
        {
          "output_type": "display_data",
          "data": {
            "text/plain": [
              "<Figure size 640x480 with 10 Axes>"
            ],
            "image/png": "[encoded data removed]"
          },
          "metadata": {}
        }
      ]
    }
  ]
}