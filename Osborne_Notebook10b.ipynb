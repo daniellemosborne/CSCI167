{
  "nbformat": 4,
  "nbformat_minor": 0,
  "metadata": {
    "colab": {
      "provenance": [],
      "include_colab_link": true
    },
    "kernelspec": {
      "name": "python3",
      "display_name": "Python 3"
    },
    "language_info": {
      "name": "python"
    }
  },
  "cells": [
    {
      "cell_type": "markdown",
      "metadata": {
        "id": "view-in-github",
        "colab_type": "text"
      },
      "source": [
        "<a href=\"https://colab.research.google.com/github/daniellemosborne/CSCI167/blob/main/Osborne_Notebook10b.ipynb\" target=\"_parent\"><img src=\"https://colab.research.google.com/assets/colab-badge.svg\" alt=\"Open In Colab\"/></a>"
      ]
    },
    {
      "cell_type": "markdown",
      "source": [
        "# **Notebook 10.2: Convolution for MNIST-1D**\n",
        "\n",
        "This notebook investigates a 1D convolutional network for MNIST-1D as in figure 10.7 and 10.8a.\n",
        "\n",
        "Work through the cells below, running each cell in turn. In various places you will see the words \"TO DO\". Follow the instructions at these places and make predictions about what is going to happen or write code to complete the functions.\n",
        "\n",
        "Contact me at udlbookmail@gmail.com if you find any mistakes or have any suggestions.\n",
        "\n"
      ],
      "metadata": {
        "id": "t9vk9Elugvmi"
      }
    },
    {
      "cell_type": "code",
      "source": [
        "# Run this if you're in a Colab to install MNIST 1D repository\n",
        "!pip install git+https://github.com/greydanus/mnist1d"
      ],
      "metadata": {
        "id": "D5yLObtZCi9J",
        "colab": {
          "base_uri": "https://localhost:8080/"
        },
        "outputId": "37f97a51-5fe0-45e6-bb34-c416ba6ab5ab"
      },
      "execution_count": 1,
      "outputs": [
        {
          "output_type": "stream",
          "name": "stdout",
          "text": [
            "Collecting git+https://github.com/greydanus/mnist1d\n",
            "  Cloning https://github.com/greydanus/mnist1d to /tmp/pip-req-build-wwu3vs4w\n",
            "  Running command git clone --filter=blob:none --quiet https://github.com/greydanus/mnist1d /tmp/pip-req-build-wwu3vs4w\n",
            "  Resolved https://github.com/greydanus/mnist1d to commit 7878d96082abd200c546a07a4101fa90b30fdf7e\n",
            "  Installing build dependencies ... \u001b[?25l\u001b[?25hdone\n",
            "  Getting requirements to build wheel ... \u001b[?25l\u001b[?25hdone\n",
            "  Preparing metadata (pyproject.toml) ... \u001b[?25l\u001b[?25hdone\n",
            "Requirement already satisfied: requests in /usr/local/lib/python3.10/dist-packages (from mnist1d==0.0.2.post16) (2.32.3)\n",
            "Requirement already satisfied: numpy in /usr/local/lib/python3.10/dist-packages (from mnist1d==0.0.2.post16) (1.26.4)\n",
            "Requirement already satisfied: matplotlib in /usr/local/lib/python3.10/dist-packages (from mnist1d==0.0.2.post16) (3.8.0)\n",
            "Requirement already satisfied: scipy in /usr/local/lib/python3.10/dist-packages (from mnist1d==0.0.2.post16) (1.13.1)\n",
            "Requirement already satisfied: contourpy>=1.0.1 in /usr/local/lib/python3.10/dist-packages (from matplotlib->mnist1d==0.0.2.post16) (1.3.0)\n",
            "Requirement already satisfied: cycler>=0.10 in /usr/local/lib/python3.10/dist-packages (from matplotlib->mnist1d==0.0.2.post16) (0.12.1)\n",
            "Requirement already satisfied: fonttools>=4.22.0 in /usr/local/lib/python3.10/dist-packages (from matplotlib->mnist1d==0.0.2.post16) (4.54.1)\n",
            "Requirement already satisfied: kiwisolver>=1.0.1 in /usr/local/lib/python3.10/dist-packages (from matplotlib->mnist1d==0.0.2.post16) (1.4.7)\n",
            "Requirement already satisfied: packaging>=20.0 in /usr/local/lib/python3.10/dist-packages (from matplotlib->mnist1d==0.0.2.post16) (24.1)\n",
            "Requirement already satisfied: pillow>=6.2.0 in /usr/local/lib/python3.10/dist-packages (from matplotlib->mnist1d==0.0.2.post16) (10.4.0)\n",
            "Requirement already satisfied: pyparsing>=2.3.1 in /usr/local/lib/python3.10/dist-packages (from matplotlib->mnist1d==0.0.2.post16) (3.2.0)\n",
            "Requirement already satisfied: python-dateutil>=2.7 in /usr/local/lib/python3.10/dist-packages (from matplotlib->mnist1d==0.0.2.post16) (2.8.2)\n",
            "Requirement already satisfied: charset-normalizer<4,>=2 in /usr/local/lib/python3.10/dist-packages (from requests->mnist1d==0.0.2.post16) (3.4.0)\n",
            "Requirement already satisfied: idna<4,>=2.5 in /usr/local/lib/python3.10/dist-packages (from requests->mnist1d==0.0.2.post16) (3.10)\n",
            "Requirement already satisfied: urllib3<3,>=1.21.1 in /usr/local/lib/python3.10/dist-packages (from requests->mnist1d==0.0.2.post16) (2.2.3)\n",
            "Requirement already satisfied: certifi>=2017.4.17 in /usr/local/lib/python3.10/dist-packages (from requests->mnist1d==0.0.2.post16) (2024.8.30)\n",
            "Requirement already satisfied: six>=1.5 in /usr/local/lib/python3.10/dist-packages (from python-dateutil>=2.7->matplotlib->mnist1d==0.0.2.post16) (1.16.0)\n",
            "Building wheels for collected packages: mnist1d\n",
            "  Building wheel for mnist1d (pyproject.toml) ... \u001b[?25l\u001b[?25hdone\n",
            "  Created wheel for mnist1d: filename=mnist1d-0.0.2.post16-py3-none-any.whl size=14624 sha256=8ec75a4c6bf6de70b9da4f93cea371d0d6e4a776d23da95cd8554826847932f3\n",
            "  Stored in directory: /tmp/pip-ephem-wheel-cache-bfyvt8lv/wheels/41/95/55/45fcf7d38cfa97e35682da6c5017d4513729131326ce935371\n",
            "Successfully built mnist1d\n",
            "Installing collected packages: mnist1d\n",
            "Successfully installed mnist1d-0.0.2.post16\n"
          ]
        }
      ]
    },
    {
      "cell_type": "code",
      "source": [
        "import numpy as np\n",
        "import os\n",
        "import torch, torch.nn as nn\n",
        "from torch.utils.data import TensorDataset, DataLoader\n",
        "from torch.optim.lr_scheduler import StepLR\n",
        "import matplotlib.pyplot as plt\n",
        "import mnist1d\n",
        "import random"
      ],
      "metadata": {
        "id": "YrXWAH7sUWvU"
      },
      "execution_count": 2,
      "outputs": []
    },
    {
      "cell_type": "code",
      "source": [
        "args = mnist1d.data.get_dataset_args()\n",
        "data = mnist1d.data.get_dataset(args, path='./mnist1d_data.pkl', download=False, regenerate=False)\n",
        "\n",
        "# The training and test input and outputs are in\n",
        "# data['x'], data['y'], data['x_test'], and data['y_test']\n",
        "print(\"Examples in training set: {}\".format(len(data['y'])))\n",
        "print(\"Examples in test set: {}\".format(len(data['y_test'])))\n",
        "print(\"Length of each example: {}\".format(data['x'].shape[-1]))"
      ],
      "metadata": {
        "id": "twI72ZCrCt5z",
        "colab": {
          "base_uri": "https://localhost:8080/"
        },
        "outputId": "479a9675-71d6-4292-8abf-4a39e93d899a"
      },
      "execution_count": 3,
      "outputs": [
        {
          "output_type": "stream",
          "name": "stdout",
          "text": [
            "Did or could not load data from ./mnist1d_data.pkl. Rebuilding dataset...\n",
            "Examples in training set: 4000\n",
            "Examples in test set: 1000\n",
            "Length of each example: 40\n"
          ]
        }
      ]
    },
    {
      "cell_type": "code",
      "source": [
        "# Load in the data\n",
        "train_data_x = data['x'].transpose()\n",
        "train_data_y = data['y']\n",
        "val_data_x = data['x_test'].transpose()\n",
        "val_data_y = data['y_test']\n",
        "# Print out sizes\n",
        "print(\"Train data: %d examples (columns), each of which has %d dimensions (rows)\"%((train_data_x.shape[1],train_data_x.shape[0])))\n",
        "print(\"Validation data: %d examples (columns), each of which has %d dimensions (rows)\"%((val_data_x.shape[1],val_data_x.shape[0])))"
      ],
      "metadata": {
        "id": "8bKADvLHbiV5",
        "colab": {
          "base_uri": "https://localhost:8080/"
        },
        "outputId": "44c9772a-f436-4f89-fedd-708dd3b73302"
      },
      "execution_count": 4,
      "outputs": [
        {
          "output_type": "stream",
          "name": "stdout",
          "text": [
            "Train data: 4000 examples (columns), each of which has 40 dimensions (rows)\n",
            "Validation data: 1000 examples (columns), each of which has 40 dimensions (rows)\n"
          ]
        }
      ]
    },
    {
      "cell_type": "markdown",
      "source": [
        "Define the network"
      ],
      "metadata": {
        "id": "_sFvRDGrl4qe"
      }
    },
    {
      "cell_type": "code",
      "source": [
        "# There are 40 input dimensions and 10 output dimensions for this data\n",
        "# The inputs correspond to the 40 offsets in the MNIST1D template.\n",
        "D_i = 40\n",
        "# The outputs correspond to the 10 digits\n",
        "D_o = 10\n",
        "\n",
        "\n",
        "# TODO Create a model with the following layers\n",
        "# 1. Convolutional layer, (input=length 40 and 1 channel, kernel size 3, stride 2, padding=\"valid\", 15 output channels )\n",
        "# 2. ReLU\n",
        "# 3. Convolutional layer, (input=length 19 and 15 channels, kernel size 3, stride 2, padding=\"valid\", 15 output channels )\n",
        "# 4. ReLU\n",
        "# 5. Convolutional layer, (input=length 9 and 15 channels, kernel size 3, stride 2, padding=\"valid\", 15 output channels)\n",
        "# 6. ReLU\n",
        "# 7. Flatten (converts 4x15) to length 60\n",
        "# 8. Linear layer (input size = 60, output size = 10)\n",
        "# References:\n",
        "# https://pytorch.org/docs/1.13/generated/torch.nn.Conv1d.html?highlight=conv1d#torch.nn.Conv1d\n",
        "# https://pytorch.org/docs/stable/generated/torch.nn.Flatten.html\n",
        "# https://pytorch.org/docs/1.13/generated/torch.nn.Linear.html?highlight=linear#torch.nn.Linear\n",
        "\n",
        "# NOTE THAT THE CONVOLUTIONAL LAYERS NEED TO TAKE THE NUMBER OF INPUT CHANNELS AS A PARAMETER\n",
        "# AND NOT THE INPUT SIZE.\n",
        "\n",
        "# Replace the following function:\n",
        "model = nn.Sequential(\n",
        "     nn.Conv1d(in_channels=1, out_channels=15, kernel_size=3, stride=2, padding=\"valid\"),\n",
        "     nn.ReLU(),\n",
        "     nn.Conv1d(in_channels=15, out_channels=15, kernel_size=3, stride=2, padding=\"valid\"),\n",
        "     nn.ReLU(),\n",
        "     nn.Conv1d(in_channels=15, out_channels=15, kernel_size=3, stride=2, padding=\"valid\"),\n",
        "     nn.ReLU(),\n",
        "     nn.Flatten(),\n",
        "     nn.Linear(60, 10)\n",
        ")\n",
        ""
      ],
      "metadata": {
        "id": "FslroPJJffrh"
      },
      "execution_count": 7,
      "outputs": []
    },
    {
      "cell_type": "code",
      "source": [
        "# He initialization of weights\n",
        "def weights_init(layer_in):\n",
        "  if isinstance(layer_in, nn.Linear):\n",
        "    nn.init.kaiming_uniform_(layer_in.weight)\n",
        "    layer_in.bias.data.fill_(0.0)"
      ],
      "metadata": {
        "id": "YgLaex1pfhqz"
      },
      "execution_count": 8,
      "outputs": []
    },
    {
      "cell_type": "code",
      "source": [
        "# choose cross entropy loss function (equation 5.24 in the loss notes)\n",
        "loss_function = nn.CrossEntropyLoss()\n",
        "# construct SGD optimizer and initialize learning rate and momentum\n",
        "optimizer = torch.optim.SGD(model.parameters(), lr = 0.05, momentum=0.9)\n",
        "# object that decreases learning rate by half every 20 epochs\n",
        "scheduler = StepLR(optimizer, step_size=20, gamma=0.5)\n",
        "# create 100 dummy data points and store in data loader class\n",
        "x_train = torch.tensor(train_data_x.transpose().astype('float32'))\n",
        "y_train = torch.tensor(train_data_y.astype('long')).long()\n",
        "x_val= torch.tensor(val_data_x.transpose().astype('float32'))\n",
        "y_val = torch.tensor(val_data_y.astype('long')).long()\n",
        "\n",
        "# load the data into a class that creates the batches\n",
        "data_loader = DataLoader(TensorDataset(x_train,y_train), batch_size=100, shuffle=True, worker_init_fn=np.random.seed(1))\n",
        "\n",
        "# Initialize model weights\n",
        "model.apply(weights_init)\n",
        "\n",
        "# loop over the dataset n_epoch times\n",
        "n_epoch = 100\n",
        "# store the loss and the % correct at each epoch\n",
        "losses_train = np.zeros((n_epoch))\n",
        "errors_train = np.zeros((n_epoch))\n",
        "losses_val = np.zeros((n_epoch))\n",
        "errors_val = np.zeros((n_epoch))\n",
        "\n",
        "for epoch in range(n_epoch):\n",
        "  # loop over batches\n",
        "  for i, data in enumerate(data_loader):\n",
        "    # retrieve inputs and labels for this batch\n",
        "    x_batch, y_batch = data\n",
        "    # zero the parameter gradients\n",
        "    optimizer.zero_grad()\n",
        "    # forward pass -- calculate model output\n",
        "    pred = model(x_batch[:,None,:])\n",
        "    # compute the loss\n",
        "    loss = loss_function(pred, y_batch)\n",
        "    # backward pass\n",
        "    loss.backward()\n",
        "    # SGD update\n",
        "    optimizer.step()\n",
        "\n",
        "  # Run whole dataset to get statistics -- normally wouldn't do this\n",
        "  pred_train = model(x_train[:,None,:])\n",
        "  pred_val = model(x_val[:,None,:])\n",
        "  _, predicted_train_class = torch.max(pred_train.data, 1)\n",
        "  _, predicted_val_class = torch.max(pred_val.data, 1)\n",
        "  errors_train[epoch] = 100 - 100 * (predicted_train_class == y_train).float().sum() / len(y_train)\n",
        "  errors_val[epoch]= 100 - 100 * (predicted_val_class == y_val).float().sum() / len(y_val)\n",
        "  losses_train[epoch] = loss_function(pred_train, y_train).item()\n",
        "  losses_val[epoch]= loss_function(pred_val, y_val).item()\n",
        "  print(f'Epoch {epoch:5d}, train loss {losses_train[epoch]:.6f}, train error {errors_train[epoch]:3.2f},  val loss {losses_val[epoch]:.6f}, percent error {errors_val[epoch]:3.2f}')\n",
        "\n",
        "  # tell scheduler to consider updating learning rate\n",
        "  scheduler.step()\n",
        "\n",
        "# Plot the results\n",
        "fig, ax = plt.subplots()\n",
        "ax.plot(errors_train,'r-',label='train')\n",
        "ax.plot(errors_val,'b-',label='validation')\n",
        "ax.set_ylim(0,100); ax.set_xlim(0,n_epoch)\n",
        "ax.set_xlabel('Epoch'); ax.set_ylabel('Error')\n",
        "ax.set_title('Part I: Validation Result %3.2f'%(errors_val[-1]))\n",
        "ax.legend()\n",
        "plt.show()"
      ],
      "metadata": {
        "id": "NYw8I_3mmX5c",
        "colab": {
          "base_uri": "https://localhost:8080/",
          "height": 1000
        },
        "outputId": "c5e89511-fbe0-4caf-993b-657fc89eff8d"
      },
      "execution_count": 9,
      "outputs": [
        {
          "output_type": "stream",
          "name": "stdout",
          "text": [
            "Epoch     0, train loss 1.953651, train error 77.20,  val loss 1.950817, percent error 76.10\n",
            "Epoch     1, train loss 1.470167, train error 57.58,  val loss 1.491768, percent error 61.70\n",
            "Epoch     2, train loss 1.348561, train error 54.03,  val loss 1.364347, percent error 56.40\n",
            "Epoch     3, train loss 1.229989, train error 49.05,  val loss 1.241497, percent error 50.30\n",
            "Epoch     4, train loss 1.102540, train error 43.42,  val loss 1.119032, percent error 45.40\n",
            "Epoch     5, train loss 1.095823, train error 45.12,  val loss 1.118010, percent error 45.90\n",
            "Epoch     6, train loss 0.888111, train error 35.22,  val loss 0.902607, percent error 36.10\n",
            "Epoch     7, train loss 0.783087, train error 29.57,  val loss 0.820674, percent error 31.90\n",
            "Epoch     8, train loss 0.691296, train error 26.25,  val loss 0.748921, percent error 28.30\n",
            "Epoch     9, train loss 0.616463, train error 22.65,  val loss 0.716374, percent error 26.50\n",
            "Epoch    10, train loss 0.582334, train error 21.28,  val loss 0.695775, percent error 25.30\n",
            "Epoch    11, train loss 0.467807, train error 16.70,  val loss 0.582745, percent error 22.40\n",
            "Epoch    12, train loss 0.516957, train error 20.40,  val loss 0.643996, percent error 25.20\n",
            "Epoch    13, train loss 0.390026, train error 14.07,  val loss 0.517637, percent error 18.20\n",
            "Epoch    14, train loss 0.382680, train error 13.95,  val loss 0.527617, percent error 18.40\n",
            "Epoch    15, train loss 0.298083, train error 10.70,  val loss 0.461422, percent error 15.90\n",
            "Epoch    16, train loss 0.345185, train error 12.80,  val loss 0.532460, percent error 17.90\n",
            "Epoch    17, train loss 0.357264, train error 12.72,  val loss 0.542444, percent error 16.70\n",
            "Epoch    18, train loss 0.274205, train error 9.47,  val loss 0.453620, percent error 14.80\n",
            "Epoch    19, train loss 0.238585, train error 8.62,  val loss 0.443949, percent error 13.40\n",
            "Epoch    20, train loss 0.174705, train error 6.03,  val loss 0.370782, percent error 12.00\n",
            "Epoch    21, train loss 0.197913, train error 6.82,  val loss 0.390802, percent error 11.40\n",
            "Epoch    22, train loss 0.164124, train error 6.10,  val loss 0.376603, percent error 12.00\n",
            "Epoch    23, train loss 0.151967, train error 5.22,  val loss 0.376626, percent error 11.20\n",
            "Epoch    24, train loss 0.139998, train error 4.70,  val loss 0.406880, percent error 12.90\n",
            "Epoch    25, train loss 0.130795, train error 4.40,  val loss 0.383596, percent error 12.00\n",
            "Epoch    26, train loss 0.129570, train error 4.30,  val loss 0.386209, percent error 11.70\n",
            "Epoch    27, train loss 0.140000, train error 4.95,  val loss 0.409918, percent error 12.70\n",
            "Epoch    28, train loss 0.149340, train error 5.32,  val loss 0.454093, percent error 12.90\n",
            "Epoch    29, train loss 0.103170, train error 3.25,  val loss 0.389582, percent error 10.70\n",
            "Epoch    30, train loss 0.133155, train error 4.80,  val loss 0.455182, percent error 12.90\n",
            "Epoch    31, train loss 0.124092, train error 4.38,  val loss 0.440705, percent error 11.80\n",
            "Epoch    32, train loss 0.100537, train error 3.38,  val loss 0.420470, percent error 11.50\n",
            "Epoch    33, train loss 0.112358, train error 4.18,  val loss 0.456233, percent error 12.60\n",
            "Epoch    34, train loss 0.095680, train error 2.93,  val loss 0.443345, percent error 12.10\n",
            "Epoch    35, train loss 0.087469, train error 2.72,  val loss 0.442485, percent error 11.00\n",
            "Epoch    36, train loss 0.073930, train error 2.32,  val loss 0.402599, percent error 10.10\n",
            "Epoch    37, train loss 0.092914, train error 3.00,  val loss 0.437748, percent error 11.30\n",
            "Epoch    38, train loss 0.086065, train error 2.97,  val loss 0.421192, percent error 11.10\n",
            "Epoch    39, train loss 0.081453, train error 2.78,  val loss 0.460313, percent error 11.50\n",
            "Epoch    40, train loss 0.054883, train error 1.47,  val loss 0.431644, percent error 10.60\n",
            "Epoch    41, train loss 0.048124, train error 1.12,  val loss 0.426574, percent error 9.90\n",
            "Epoch    42, train loss 0.054525, train error 1.38,  val loss 0.444817, percent error 10.50\n",
            "Epoch    43, train loss 0.057011, train error 1.62,  val loss 0.443055, percent error 10.30\n",
            "Epoch    44, train loss 0.047040, train error 1.05,  val loss 0.443812, percent error 10.50\n",
            "Epoch    45, train loss 0.041824, train error 0.75,  val loss 0.434548, percent error 10.00\n",
            "Epoch    46, train loss 0.041714, train error 0.70,  val loss 0.446760, percent error 10.10\n",
            "Epoch    47, train loss 0.044506, train error 0.93,  val loss 0.443363, percent error 10.50\n",
            "Epoch    48, train loss 0.039630, train error 0.62,  val loss 0.449778, percent error 10.30\n",
            "Epoch    49, train loss 0.038747, train error 0.68,  val loss 0.440477, percent error 9.40\n",
            "Epoch    50, train loss 0.043295, train error 1.10,  val loss 0.454317, percent error 9.30\n",
            "Epoch    51, train loss 0.036233, train error 0.60,  val loss 0.461985, percent error 11.00\n",
            "Epoch    52, train loss 0.036846, train error 0.53,  val loss 0.466004, percent error 9.80\n",
            "Epoch    53, train loss 0.033867, train error 0.57,  val loss 0.470425, percent error 10.30\n",
            "Epoch    54, train loss 0.040499, train error 0.95,  val loss 0.480263, percent error 10.50\n",
            "Epoch    55, train loss 0.032891, train error 0.47,  val loss 0.473923, percent error 10.30\n",
            "Epoch    56, train loss 0.032030, train error 0.47,  val loss 0.493445, percent error 10.30\n",
            "Epoch    57, train loss 0.032541, train error 0.43,  val loss 0.488786, percent error 10.40\n",
            "Epoch    58, train loss 0.030037, train error 0.32,  val loss 0.493315, percent error 10.30\n",
            "Epoch    59, train loss 0.031940, train error 0.45,  val loss 0.496713, percent error 10.90\n",
            "Epoch    60, train loss 0.028375, train error 0.32,  val loss 0.498388, percent error 10.40\n",
            "Epoch    61, train loss 0.026804, train error 0.25,  val loss 0.498818, percent error 10.10\n",
            "Epoch    62, train loss 0.026352, train error 0.32,  val loss 0.504445, percent error 10.70\n",
            "Epoch    63, train loss 0.025199, train error 0.18,  val loss 0.504320, percent error 10.90\n",
            "Epoch    64, train loss 0.024833, train error 0.15,  val loss 0.504460, percent error 10.30\n",
            "Epoch    65, train loss 0.024541, train error 0.20,  val loss 0.511155, percent error 10.90\n",
            "Epoch    66, train loss 0.023848, train error 0.15,  val loss 0.512688, percent error 10.80\n",
            "Epoch    67, train loss 0.024076, train error 0.12,  val loss 0.513949, percent error 10.60\n",
            "Epoch    68, train loss 0.024528, train error 0.22,  val loss 0.518478, percent error 10.70\n",
            "Epoch    69, train loss 0.024011, train error 0.20,  val loss 0.527163, percent error 11.10\n",
            "Epoch    70, train loss 0.022861, train error 0.15,  val loss 0.520205, percent error 10.90\n",
            "Epoch    71, train loss 0.022891, train error 0.15,  val loss 0.523990, percent error 10.80\n",
            "Epoch    72, train loss 0.022080, train error 0.10,  val loss 0.521835, percent error 10.90\n",
            "Epoch    73, train loss 0.021754, train error 0.15,  val loss 0.524797, percent error 10.90\n",
            "Epoch    74, train loss 0.023063, train error 0.18,  val loss 0.532540, percent error 11.10\n",
            "Epoch    75, train loss 0.021117, train error 0.15,  val loss 0.531102, percent error 10.70\n",
            "Epoch    76, train loss 0.021016, train error 0.15,  val loss 0.537239, percent error 11.10\n",
            "Epoch    77, train loss 0.020774, train error 0.07,  val loss 0.539263, percent error 10.80\n",
            "Epoch    78, train loss 0.020818, train error 0.10,  val loss 0.535439, percent error 10.50\n",
            "Epoch    79, train loss 0.020830, train error 0.10,  val loss 0.545492, percent error 11.00\n",
            "Epoch    80, train loss 0.020069, train error 0.10,  val loss 0.541319, percent error 10.80\n",
            "Epoch    81, train loss 0.019666, train error 0.07,  val loss 0.543764, percent error 11.30\n",
            "Epoch    82, train loss 0.019626, train error 0.07,  val loss 0.543490, percent error 10.90\n",
            "Epoch    83, train loss 0.019388, train error 0.07,  val loss 0.543806, percent error 10.70\n",
            "Epoch    84, train loss 0.019436, train error 0.05,  val loss 0.548759, percent error 10.90\n",
            "Epoch    85, train loss 0.019134, train error 0.07,  val loss 0.546933, percent error 11.10\n",
            "Epoch    86, train loss 0.019076, train error 0.07,  val loss 0.547895, percent error 11.00\n",
            "Epoch    87, train loss 0.018990, train error 0.07,  val loss 0.546889, percent error 10.70\n",
            "Epoch    88, train loss 0.018897, train error 0.03,  val loss 0.547277, percent error 10.50\n",
            "Epoch    89, train loss 0.019033, train error 0.07,  val loss 0.553702, percent error 11.40\n",
            "Epoch    90, train loss 0.018808, train error 0.03,  val loss 0.551932, percent error 10.70\n",
            "Epoch    91, train loss 0.018659, train error 0.05,  val loss 0.553633, percent error 10.60\n",
            "Epoch    92, train loss 0.018608, train error 0.05,  val loss 0.554806, percent error 10.80\n",
            "Epoch    93, train loss 0.018228, train error 0.03,  val loss 0.557038, percent error 10.70\n",
            "Epoch    94, train loss 0.018286, train error 0.03,  val loss 0.556114, percent error 10.70\n",
            "Epoch    95, train loss 0.018882, train error 0.07,  val loss 0.558576, percent error 10.60\n",
            "Epoch    96, train loss 0.017881, train error 0.03,  val loss 0.557144, percent error 10.90\n",
            "Epoch    97, train loss 0.017905, train error 0.05,  val loss 0.558262, percent error 10.90\n",
            "Epoch    98, train loss 0.017978, train error 0.07,  val loss 0.561464, percent error 11.10\n",
            "Epoch    99, train loss 0.017589, train error 0.03,  val loss 0.560003, percent error 10.80\n"
          ]
        },
        {
          "output_type": "display_data",
          "data": {
            "text/plain": [
              "<Figure size 640x480 with 1 Axes>"
            ],
            "image/png": "[encoded data removed]"
          },
          "metadata": {}
        }
      ]
    }
  ]
}